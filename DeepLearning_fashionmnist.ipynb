{
  "nbformat": 4,
  "nbformat_minor": 0,
  "metadata": {
    "colab": {
      "provenance": []
    },
    "kernelspec": {
      "name": "python3",
      "display_name": "Python 3"
    },
    "language_info": {
      "name": "python"
    }
  },
  "cells": [
    {
      "cell_type": "markdown",
      "source": [
        "# Bibliotecas"
      ],
      "metadata": {
        "id": "vnI53KirKo-9"
      }
    },
    {
      "cell_type": "code",
      "source": [
        "import tensorflow\n",
        "from tensorflow import keras\n",
        "from tensorflow.keras.models import load_model\n",
        "import matplotlib.pyplot as plt\n",
        "import numpy as np"
      ],
      "metadata": {
        "id": "dL-W7aVRK8Eh"
      },
      "execution_count": 6,
      "outputs": []
    },
    {
      "cell_type": "markdown",
      "source": [
        "# Dataset"
      ],
      "metadata": {
        "id": "vO_3RTahGRYu"
      }
    },
    {
      "cell_type": "markdown",
      "source": [
        "O Fashion-MNIST é um conjunto de dados de imagens de artigos da Zalando, composto por um conjunto de treinamento com 60.000 exemplos e um conjunto de teste com 10.000 exemplos. Cada exemplo é uma imagem em tons de cinza de 28x28, associada a um rótulo de 10 classes."
      ],
      "metadata": {
        "id": "IX3KxIFVHMha"
      }
    },
    {
      "cell_type": "code",
      "execution_count": 7,
      "metadata": {
        "id": "jWY9yPGkI_tI"
      },
      "outputs": [],
      "source": [
        "# carregar o dataset\n",
        "\n",
        "dataset = keras.datasets.fashion_mnist\n",
        "((imagens_treino, idenficacoes_treino), (imagens_teste, idenficacoes_teste)) = dataset.load_data()"
      ]
    },
    {
      "cell_type": "markdown",
      "source": [
        "# Explorando os dados"
      ],
      "metadata": {
        "id": "Lo1Iq2OPSEWr"
      }
    },
    {
      "cell_type": "code",
      "source": [
        "# visalizar os dados de treino\n",
        "\n",
        "imagens_treino"
      ],
      "metadata": {
        "colab": {
          "base_uri": "https://localhost:8080/"
        },
        "id": "2YFVREv1LOvH",
        "outputId": "0d21fb8f-568f-4f1a-91f3-8baee79f9726",
        "collapsed": true
      },
      "execution_count": 8,
      "outputs": [
        {
          "output_type": "execute_result",
          "data": {
            "text/plain": [
              "array([[[0, 0, 0, ..., 0, 0, 0],\n",
              "        [0, 0, 0, ..., 0, 0, 0],\n",
              "        [0, 0, 0, ..., 0, 0, 0],\n",
              "        ...,\n",
              "        [0, 0, 0, ..., 0, 0, 0],\n",
              "        [0, 0, 0, ..., 0, 0, 0],\n",
              "        [0, 0, 0, ..., 0, 0, 0]],\n",
              "\n",
              "       [[0, 0, 0, ..., 0, 0, 0],\n",
              "        [0, 0, 0, ..., 0, 0, 0],\n",
              "        [0, 0, 0, ..., 0, 0, 0],\n",
              "        ...,\n",
              "        [0, 0, 0, ..., 0, 0, 0],\n",
              "        [0, 0, 0, ..., 0, 0, 0],\n",
              "        [0, 0, 0, ..., 0, 0, 0]],\n",
              "\n",
              "       [[0, 0, 0, ..., 0, 0, 0],\n",
              "        [0, 0, 0, ..., 0, 0, 0],\n",
              "        [0, 0, 0, ..., 0, 0, 0],\n",
              "        ...,\n",
              "        [0, 0, 0, ..., 0, 0, 0],\n",
              "        [0, 0, 0, ..., 0, 0, 0],\n",
              "        [0, 0, 0, ..., 0, 0, 0]],\n",
              "\n",
              "       ...,\n",
              "\n",
              "       [[0, 0, 0, ..., 0, 0, 0],\n",
              "        [0, 0, 0, ..., 0, 0, 0],\n",
              "        [0, 0, 0, ..., 0, 0, 0],\n",
              "        ...,\n",
              "        [0, 0, 0, ..., 0, 0, 0],\n",
              "        [0, 0, 0, ..., 0, 0, 0],\n",
              "        [0, 0, 0, ..., 0, 0, 0]],\n",
              "\n",
              "       [[0, 0, 0, ..., 0, 0, 0],\n",
              "        [0, 0, 0, ..., 0, 0, 0],\n",
              "        [0, 0, 0, ..., 0, 0, 0],\n",
              "        ...,\n",
              "        [0, 0, 0, ..., 0, 0, 0],\n",
              "        [0, 0, 0, ..., 0, 0, 0],\n",
              "        [0, 0, 0, ..., 0, 0, 0]],\n",
              "\n",
              "       [[0, 0, 0, ..., 0, 0, 0],\n",
              "        [0, 0, 0, ..., 0, 0, 0],\n",
              "        [0, 0, 0, ..., 0, 0, 0],\n",
              "        ...,\n",
              "        [0, 0, 0, ..., 0, 0, 0],\n",
              "        [0, 0, 0, ..., 0, 0, 0],\n",
              "        [0, 0, 0, ..., 0, 0, 0]]], dtype=uint8)"
            ]
          },
          "metadata": {},
          "execution_count": 8
        }
      ]
    },
    {
      "cell_type": "markdown",
      "source": [
        "Retorna arrays referentes a cada imagem"
      ],
      "metadata": {
        "id": "0K2qnmd8HrAO"
      }
    },
    {
      "cell_type": "code",
      "source": [
        "# tamanho do conjunto de treino\n",
        "\n",
        "len(imagens_treino)"
      ],
      "metadata": {
        "colab": {
          "base_uri": "https://localhost:8080/"
        },
        "id": "8wQR8C35L_UO",
        "outputId": "db946d6d-5bfa-4bc8-925a-325b9d61c66b"
      },
      "execution_count": 9,
      "outputs": [
        {
          "output_type": "execute_result",
          "data": {
            "text/plain": [
              "60000"
            ]
          },
          "metadata": {},
          "execution_count": 9
        }
      ]
    },
    {
      "cell_type": "code",
      "source": [
        "# shape\n",
        "\n",
        "imagens_treino.shape"
      ],
      "metadata": {
        "colab": {
          "base_uri": "https://localhost:8080/"
        },
        "id": "-JR_Zuz1NOPj",
        "outputId": "ba9614e0-2398-465d-8b7c-1cee010a6e95"
      },
      "execution_count": 10,
      "outputs": [
        {
          "output_type": "execute_result",
          "data": {
            "text/plain": [
              "(60000, 28, 28)"
            ]
          },
          "metadata": {},
          "execution_count": 10
        }
      ]
    },
    {
      "cell_type": "markdown",
      "source": [
        "Indica que temos 60 000 imagens, que são compostas de 28 linhas e 28 colunas (pixels)."
      ],
      "metadata": {
        "id": "KUo2CG_wImov"
      }
    },
    {
      "cell_type": "code",
      "source": [
        "# tamanho do conjunto de teste\n",
        "\n",
        "len(idenficacoes_teste)"
      ],
      "metadata": {
        "colab": {
          "base_uri": "https://localhost:8080/"
        },
        "id": "Td-EKNpuNmZu",
        "outputId": "6d6616ac-8d85-489c-b775-d1ceb94e348a"
      },
      "execution_count": 11,
      "outputs": [
        {
          "output_type": "execute_result",
          "data": {
            "text/plain": [
              "10000"
            ]
          },
          "metadata": {},
          "execution_count": 11
        }
      ]
    },
    {
      "cell_type": "code",
      "source": [
        "idenficacoes_teste.shape\n",
        "print(idenficacoes_teste.shape)"
      ],
      "metadata": {
        "colab": {
          "base_uri": "https://localhost:8080/"
        },
        "id": "rJ6trGHmOGQc",
        "outputId": "dad21d62-0736-4c4b-8e9b-c12770d05bea"
      },
      "execution_count": 12,
      "outputs": [
        {
          "output_type": "stream",
          "name": "stdout",
          "text": [
            "(10000,)\n"
          ]
        }
      ]
    },
    {
      "cell_type": "code",
      "source": [
        "# visualizar uma imagem\n",
        "\n",
        "plt.imshow(imagens_treino[0]);\n",
        "plt.title(idenficacoes_treino[0]);"
      ],
      "metadata": {
        "colab": {
          "base_uri": "https://localhost:8080/",
          "height": 452
        },
        "id": "t-ttqVeaNrra",
        "outputId": "b560095e-30b6-430a-d5ce-a99cf901ef8c"
      },
      "execution_count": 13,
      "outputs": [
        {
          "output_type": "display_data",
          "data": {
            "text/plain": [
              "<Figure size 640x480 with 1 Axes>"
            ],
            "image/png": "[encoded data removed]"
          },
          "metadata": {}
        }
      ]
    },
    {
      "cell_type": "code",
      "source": [
        "# visualizar as classes\n",
        "\n",
        "idenficacoes_treino"
      ],
      "metadata": {
        "colab": {
          "base_uri": "https://localhost:8080/"
        },
        "id": "LXzUwwJSOCOe",
        "outputId": "13cac9e1-4737-408e-a28d-b569b8b504ea"
      },
      "execution_count": 14,
      "outputs": [
        {
          "output_type": "execute_result",
          "data": {
            "text/plain": [
              "array([9, 0, 0, ..., 3, 0, 5], dtype=uint8)"
            ]
          },
          "metadata": {},
          "execution_count": 14
        }
      ]
    },
    {
      "cell_type": "code",
      "source": [
        "# menor valor da classe\n",
        "\n",
        "idenficacoes_treino.min()"
      ],
      "metadata": {
        "colab": {
          "base_uri": "https://localhost:8080/"
        },
        "id": "l2WIpgVzPviw",
        "outputId": "102d0484-c908-4dc7-831b-d993ecbcd6ba"
      },
      "execution_count": 15,
      "outputs": [
        {
          "output_type": "execute_result",
          "data": {
            "text/plain": [
              "np.uint8(0)"
            ]
          },
          "metadata": {},
          "execution_count": 15
        }
      ]
    },
    {
      "cell_type": "code",
      "source": [
        "# maior valor da classe\n",
        "\n",
        "idenficacoes_treino.max()"
      ],
      "metadata": {
        "colab": {
          "base_uri": "https://localhost:8080/"
        },
        "id": "XZ3kTcTKP3lY",
        "outputId": "2250e689-8d77-4b47-f33c-a903103a4bc6"
      },
      "execution_count": 16,
      "outputs": [
        {
          "output_type": "execute_result",
          "data": {
            "text/plain": [
              "np.uint8(9)"
            ]
          },
          "metadata": {},
          "execution_count": 16
        }
      ]
    },
    {
      "cell_type": "code",
      "source": [
        "total_de_identificacoes = 10"
      ],
      "metadata": {
        "id": "41SM4hCPP4s9"
      },
      "execution_count": 17,
      "outputs": []
    },
    {
      "cell_type": "markdown",
      "source": [
        "0\tT-shirt/top\n",
        "1\tTrouser\n",
        "2\tPullover\n",
        "3\tDress\n",
        "4\tCoat\n",
        "5\tSandal\n",
        "6\tShirt\n",
        "7\tSneaker\n",
        "8\tBag\n",
        "9\tAnkle boot"
      ],
      "metadata": {
        "id": "j9ZOwJj2JN_q"
      }
    },
    {
      "cell_type": "markdown",
      "source": [
        "# Exibindo os dados"
      ],
      "metadata": {
        "id": "Z8_84s5eSSSR"
      }
    },
    {
      "cell_type": "code",
      "source": [
        "nomes_de_classificacoes = ['Camiseta', 'Calça', 'Pullover', 'Vestido', 'Casaco', 'Sandália', 'Camisa', 'Tênis', 'Bolsa', 'Bota']"
      ],
      "metadata": {
        "id": "QVUTGVPMQU7q"
      },
      "execution_count": 18,
      "outputs": []
    },
    {
      "cell_type": "code",
      "source": [
        "# exibir imagens e seus rótulos\n",
        "\n",
        "for imagem in range(10):\n",
        "  plt.subplot(2, 5, imagem+1)\n",
        "  plt.imshow(imagens_treino[imagem]);\n",
        "  plt.title(nomes_de_classificacoes[idenficacoes_treino[imagem]]);"
      ],
      "metadata": {
        "colab": {
          "base_uri": "https://localhost:8080/",
          "height": 370
        },
        "id": "hVcRpTraRLu2",
        "outputId": "b6635116-91fe-4eeb-ae5e-daadfd04be7e"
      },
      "execution_count": 19,
      "outputs": [
        {
          "output_type": "display_data",
          "data": {
            "text/plain": [
              "<Figure size 640x480 with 10 Axes>"
            ],
            "image/png": "[encoded data removed]"
          },
          "metadata": {}
        }
      ]
    },
    {
      "cell_type": "code",
      "source": [
        "# cores\n",
        "\n",
        "plt.imshow(imagens_treino[0]);\n",
        "plt.colorbar()"
      ],
      "metadata": {
        "colab": {
          "base_uri": "https://localhost:8080/",
          "height": 447
        },
        "id": "TpLSgERDXOS8",
        "outputId": "4c43db83-88cc-40e8-b312-2172de5e7091"
      },
      "execution_count": 20,
      "outputs": [
        {
          "output_type": "execute_result",
          "data": {
            "text/plain": [
              "<matplotlib.colorbar.Colorbar at 0x7c7e3c40f690>"
            ]
          },
          "metadata": {},
          "execution_count": 20
        },
        {
          "output_type": "display_data",
          "data": {
            "text/plain": [
              "<Figure size 640x480 with 2 Axes>"
            ],
            "image/png": "[encoded data removed]"
          },
          "metadata": {}
        }
      ]
    },
    {
      "cell_type": "markdown",
      "source": [
        "O colorbar indica que os tons de cores variam de 0 a 255. Para melhorar o entendimento do modelo, podemos normalizar esse valor para o intervalo entre 0 e 1, divindo o conjunto de dados por 255."
      ],
      "metadata": {
        "id": "rN8FbXHnKrjy"
      }
    },
    {
      "cell_type": "code",
      "source": [
        "# normalização das imagens de treino\n",
        "\n",
        "imagens_treino = imagens_treino/float(255)"
      ],
      "metadata": {
        "id": "8xlJ3cJVT9eB"
      },
      "execution_count": 21,
      "outputs": []
    },
    {
      "cell_type": "code",
      "source": [
        "# imagem normalizada\n",
        "\n",
        "plt.imshow(imagens_treino[0]);\n",
        "plt.colorbar()"
      ],
      "metadata": {
        "colab": {
          "base_uri": "https://localhost:8080/",
          "height": 452
        },
        "id": "0nUpiUe0YbVW",
        "outputId": "0a403b6b-1c4a-4fd7-9929-dbfaff5cfcac"
      },
      "execution_count": 22,
      "outputs": [
        {
          "output_type": "execute_result",
          "data": {
            "text/plain": [
              "<matplotlib.colorbar.Colorbar at 0x7c7e3c48f690>"
            ]
          },
          "metadata": {},
          "execution_count": 22
        },
        {
          "output_type": "display_data",
          "data": {
            "text/plain": [
              "<Figure size 640x480 with 2 Axes>"
            ],
            "image/png": "[encoded data removed]"
          },
          "metadata": {}
        }
      ]
    },
    {
      "cell_type": "markdown",
      "source": [
        "# Treinamento do modelo"
      ],
      "metadata": {
        "id": "MA3Fh3pVTgQR"
      }
    },
    {
      "cell_type": "code",
      "source": [
        "# definição do modelo sequencial\n",
        "\n",
        "modelo = keras.Sequential([\n",
        "    keras.layers.Input(shape=(28, 28, 1)), # camada de entrada\n",
        "    keras.layers.Flatten(), # camada de redução de dimensionalidade\n",
        "    keras.layers.Dense(256, activation=tensorflow.nn.relu), # camada oculta\n",
        "    keras.layers.Dropout(0.2), # camada de dropout\n",
        "    keras.layers.Dense(10, activation=tensorflow.nn.softmax) # camada de saída\n",
        "])\n"
      ],
      "metadata": {
        "id": "K8uUMN_8RwWf"
      },
      "execution_count": 23,
      "outputs": []
    },
    {
      "cell_type": "code",
      "source": [
        "# compilação do modelo\n",
        "\n",
        "modelo.compile(optimizer='adam',\n",
        "               loss='sparse_categorical_crossentropy',\n",
        "               metrics=['accuracy'])"
      ],
      "metadata": {
        "id": "VGa9HnFRLwBs"
      },
      "execution_count": 24,
      "outputs": []
    },
    {
      "cell_type": "code",
      "source": [
        "# salvar histórico\n",
        "\n",
        "historico = modelo.fit(imagens_treino, idenficacoes_treino, epochs=10, validation_split=0.2)"
      ],
      "metadata": {
        "colab": {
          "base_uri": "https://localhost:8080/"
        },
        "id": "z4YmbS1XLvzw",
        "outputId": "8d3eb1e7-101a-4002-c897-0c881b522bed"
      },
      "execution_count": 25,
      "outputs": [
        {
          "output_type": "stream",
          "name": "stdout",
          "text": [
            "Epoch 1/10\n",
            "\u001b[1m1500/1500\u001b[0m \u001b[32m━━━━━━━━━━━━━━━━━━━━\u001b[0m\u001b[37m\u001b[0m \u001b[1m5s\u001b[0m 3ms/step - accuracy: 0.7619 - loss: 0.6740 - val_accuracy: 0.8554 - val_loss: 0.3977\n",
            "Epoch 2/10\n",
            "\u001b[1m1500/1500\u001b[0m \u001b[32m━━━━━━━━━━━━━━━━━━━━\u001b[0m\u001b[37m\u001b[0m \u001b[1m4s\u001b[0m 3ms/step - accuracy: 0.8548 - loss: 0.3996 - val_accuracy: 0.8687 - val_loss: 0.3577\n",
            "Epoch 3/10\n",
            "\u001b[1m1500/1500\u001b[0m \u001b[32m━━━━━━━━━━━━━━━━━━━━\u001b[0m\u001b[37m\u001b[0m \u001b[1m5s\u001b[0m 3ms/step - accuracy: 0.8665 - loss: 0.3616 - val_accuracy: 0.8643 - val_loss: 0.3694\n",
            "Epoch 4/10\n",
            "\u001b[1m1500/1500\u001b[0m \u001b[32m━━━━━━━━━━━━━━━━━━━━\u001b[0m\u001b[37m\u001b[0m \u001b[1m4s\u001b[0m 3ms/step - accuracy: 0.8768 - loss: 0.3360 - val_accuracy: 0.8771 - val_loss: 0.3417\n",
            "Epoch 5/10\n",
            "\u001b[1m1500/1500\u001b[0m \u001b[32m━━━━━━━━━━━━━━━━━━━━\u001b[0m\u001b[37m\u001b[0m \u001b[1m5s\u001b[0m 3ms/step - accuracy: 0.8813 - loss: 0.3227 - val_accuracy: 0.8626 - val_loss: 0.3650\n",
            "Epoch 6/10\n",
            "\u001b[1m1500/1500\u001b[0m \u001b[32m━━━━━━━━━━━━━━━━━━━━\u001b[0m\u001b[37m\u001b[0m \u001b[1m4s\u001b[0m 3ms/step - accuracy: 0.8846 - loss: 0.3130 - val_accuracy: 0.8827 - val_loss: 0.3336\n",
            "Epoch 7/10\n",
            "\u001b[1m1500/1500\u001b[0m \u001b[32m━━━━━━━━━━━━━━━━━━━━\u001b[0m\u001b[37m\u001b[0m \u001b[1m5s\u001b[0m 3ms/step - accuracy: 0.8877 - loss: 0.2967 - val_accuracy: 0.8835 - val_loss: 0.3248\n",
            "Epoch 8/10\n",
            "\u001b[1m1500/1500\u001b[0m \u001b[32m━━━━━━━━━━━━━━━━━━━━\u001b[0m\u001b[37m\u001b[0m \u001b[1m5s\u001b[0m 3ms/step - accuracy: 0.8928 - loss: 0.2832 - val_accuracy: 0.8847 - val_loss: 0.3271\n",
            "Epoch 9/10\n",
            "\u001b[1m1500/1500\u001b[0m \u001b[32m━━━━━━━━━━━━━━━━━━━━\u001b[0m\u001b[37m\u001b[0m \u001b[1m4s\u001b[0m 3ms/step - accuracy: 0.8955 - loss: 0.2758 - val_accuracy: 0.8849 - val_loss: 0.3220\n",
            "Epoch 10/10\n",
            "\u001b[1m1500/1500\u001b[0m \u001b[32m━━━━━━━━━━━━━━━━━━━━\u001b[0m\u001b[37m\u001b[0m \u001b[1m6s\u001b[0m 3ms/step - accuracy: 0.8991 - loss: 0.2699 - val_accuracy: 0.8771 - val_loss: 0.3330\n"
          ]
        }
      ]
    },
    {
      "cell_type": "code",
      "source": [
        "# Resumo do modelo\n",
        "\n",
        "sumario_modelo = modelo.summary()"
      ],
      "metadata": {
        "colab": {
          "base_uri": "https://localhost:8080/",
          "height": 289
        },
        "id": "PACEL7C4upZ2",
        "outputId": "dfa7fc4f-146d-4b22-9d25-921b56a339c1"
      },
      "execution_count": 26,
      "outputs": [
        {
          "output_type": "display_data",
          "data": {
            "text/plain": [
              "\u001b[1mModel: \"sequential\"\u001b[0m\n"
            ],
            "text/html": [
              "<pre style=\"white-space:pre;overflow-x:auto;line-height:normal;font-family:Menlo,'DejaVu Sans Mono',consolas,'Courier New',monospace\"><span style=\"font-weight: bold\">Model: \"sequential\"</span>\n",
              "</pre>\n"
            ]
          },
          "metadata": {}
        },
        {
          "output_type": "display_data",
          "data": {
            "text/plain": [
              "┏━━━━━━━━━━━━━━━━━━━━━━━━━━━━━━━━━┳━━━━━━━━━━━━━━━━━━━━━━━━┳━━━━━━━━━━━━━━━┓\n",
              "┃\u001b[1m \u001b[0m\u001b[1mLayer (type)                   \u001b[0m\u001b[1m \u001b[0m┃\u001b[1m \u001b[0m\u001b[1mOutput Shape          \u001b[0m\u001b[1m \u001b[0m┃\u001b[1m \u001b[0m\u001b[1m      Param #\u001b[0m\u001b[1m \u001b[0m┃\n",
              "┡━━━━━━━━━━━━━━━━━━━━━━━━━━━━━━━━━╇━━━━━━━━━━━━━━━━━━━━━━━━╇━━━━━━━━━━━━━━━┩\n",
              "│ flatten (\u001b[38;5;33mFlatten\u001b[0m)               │ (\u001b[38;5;45mNone\u001b[0m, \u001b[38;5;34m784\u001b[0m)            │             \u001b[38;5;34m0\u001b[0m │\n",
              "├─────────────────────────────────┼────────────────────────┼───────────────┤\n",
              "│ dense (\u001b[38;5;33mDense\u001b[0m)                   │ (\u001b[38;5;45mNone\u001b[0m, \u001b[38;5;34m256\u001b[0m)            │       \u001b[38;5;34m200,960\u001b[0m │\n",
              "├─────────────────────────────────┼────────────────────────┼───────────────┤\n",
              "│ dropout (\u001b[38;5;33mDropout\u001b[0m)               │ (\u001b[38;5;45mNone\u001b[0m, \u001b[38;5;34m256\u001b[0m)            │             \u001b[38;5;34m0\u001b[0m │\n",
              "├─────────────────────────────────┼────────────────────────┼───────────────┤\n",
              "│ dense_1 (\u001b[38;5;33mDense\u001b[0m)                 │ (\u001b[38;5;45mNone\u001b[0m, \u001b[38;5;34m10\u001b[0m)             │         \u001b[38;5;34m2,570\u001b[0m │\n",
              "└─────────────────────────────────┴────────────────────────┴───────────────┘\n"
            ],
            "text/html": [
              "<pre style=\"white-space:pre;overflow-x:auto;line-height:normal;font-family:Menlo,'DejaVu Sans Mono',consolas,'Courier New',monospace\">┏━━━━━━━━━━━━━━━━━━━━━━━━━━━━━━━━━┳━━━━━━━━━━━━━━━━━━━━━━━━┳━━━━━━━━━━━━━━━┓\n",
              "┃<span style=\"font-weight: bold\"> Layer (type)                    </span>┃<span style=\"font-weight: bold\"> Output Shape           </span>┃<span style=\"font-weight: bold\">       Param # </span>┃\n",
              "┡━━━━━━━━━━━━━━━━━━━━━━━━━━━━━━━━━╇━━━━━━━━━━━━━━━━━━━━━━━━╇━━━━━━━━━━━━━━━┩\n",
              "│ flatten (<span style=\"color: #0087ff; text-decoration-color: #0087ff\">Flatten</span>)               │ (<span style=\"color: #00d7ff; text-decoration-color: #00d7ff\">None</span>, <span style=\"color: #00af00; text-decoration-color: #00af00\">784</span>)            │             <span style=\"color: #00af00; text-decoration-color: #00af00\">0</span> │\n",
              "├─────────────────────────────────┼────────────────────────┼───────────────┤\n",
              "│ dense (<span style=\"color: #0087ff; text-decoration-color: #0087ff\">Dense</span>)                   │ (<span style=\"color: #00d7ff; text-decoration-color: #00d7ff\">None</span>, <span style=\"color: #00af00; text-decoration-color: #00af00\">256</span>)            │       <span style=\"color: #00af00; text-decoration-color: #00af00\">200,960</span> │\n",
              "├─────────────────────────────────┼────────────────────────┼───────────────┤\n",
              "│ dropout (<span style=\"color: #0087ff; text-decoration-color: #0087ff\">Dropout</span>)               │ (<span style=\"color: #00d7ff; text-decoration-color: #00d7ff\">None</span>, <span style=\"color: #00af00; text-decoration-color: #00af00\">256</span>)            │             <span style=\"color: #00af00; text-decoration-color: #00af00\">0</span> │\n",
              "├─────────────────────────────────┼────────────────────────┼───────────────┤\n",
              "│ dense_1 (<span style=\"color: #0087ff; text-decoration-color: #0087ff\">Dense</span>)                 │ (<span style=\"color: #00d7ff; text-decoration-color: #00d7ff\">None</span>, <span style=\"color: #00af00; text-decoration-color: #00af00\">10</span>)             │         <span style=\"color: #00af00; text-decoration-color: #00af00\">2,570</span> │\n",
              "└─────────────────────────────────┴────────────────────────┴───────────────┘\n",
              "</pre>\n"
            ]
          },
          "metadata": {}
        },
        {
          "output_type": "display_data",
          "data": {
            "text/plain": [
              "\u001b[1m Total params: \u001b[0m\u001b[38;5;34m610,592\u001b[0m (2.33 MB)\n"
            ],
            "text/html": [
              "<pre style=\"white-space:pre;overflow-x:auto;line-height:normal;font-family:Menlo,'DejaVu Sans Mono',consolas,'Courier New',monospace\"><span style=\"font-weight: bold\"> Total params: </span><span style=\"color: #00af00; text-decoration-color: #00af00\">610,592</span> (2.33 MB)\n",
              "</pre>\n"
            ]
          },
          "metadata": {}
        },
        {
          "output_type": "display_data",
          "data": {
            "text/plain": [
              "\u001b[1m Trainable params: \u001b[0m\u001b[38;5;34m203,530\u001b[0m (795.04 KB)\n"
            ],
            "text/html": [
              "<pre style=\"white-space:pre;overflow-x:auto;line-height:normal;font-family:Menlo,'DejaVu Sans Mono',consolas,'Courier New',monospace\"><span style=\"font-weight: bold\"> Trainable params: </span><span style=\"color: #00af00; text-decoration-color: #00af00\">203,530</span> (795.04 KB)\n",
              "</pre>\n"
            ]
          },
          "metadata": {}
        },
        {
          "output_type": "display_data",
          "data": {
            "text/plain": [
              "\u001b[1m Non-trainable params: \u001b[0m\u001b[38;5;34m0\u001b[0m (0.00 B)\n"
            ],
            "text/html": [
              "<pre style=\"white-space:pre;overflow-x:auto;line-height:normal;font-family:Menlo,'DejaVu Sans Mono',consolas,'Courier New',monospace\"><span style=\"font-weight: bold\"> Non-trainable params: </span><span style=\"color: #00af00; text-decoration-color: #00af00\">0</span> (0.00 B)\n",
              "</pre>\n"
            ]
          },
          "metadata": {}
        },
        {
          "output_type": "display_data",
          "data": {
            "text/plain": [
              "\u001b[1m Optimizer params: \u001b[0m\u001b[38;5;34m407,062\u001b[0m (1.55 MB)\n"
            ],
            "text/html": [
              "<pre style=\"white-space:pre;overflow-x:auto;line-height:normal;font-family:Menlo,'DejaVu Sans Mono',consolas,'Courier New',monospace\"><span style=\"font-weight: bold\"> Optimizer params: </span><span style=\"color: #00af00; text-decoration-color: #00af00\">407,062</span> (1.55 MB)\n",
              "</pre>\n"
            ]
          },
          "metadata": {}
        }
      ]
    },
    {
      "cell_type": "markdown",
      "source": [
        "# Alterando pesos e vieses"
      ],
      "metadata": {
        "id": "HGpzSD0QTxBB"
      }
    },
    {
      "cell_type": "markdown",
      "source": [
        "## Pesos e viéses zerados"
      ],
      "metadata": {
        "id": "Z7M1U9MXWTtH"
      }
    },
    {
      "cell_type": "code",
      "source": [
        "# Pesos da primeira camada dense\n",
        "\n",
        "pesos_camada_dense = modelo.layers[1].get_weights()[0]\n",
        "pesos_camada_dense"
      ],
      "metadata": {
        "colab": {
          "base_uri": "https://localhost:8080/"
        },
        "id": "ElFn3TlMw6UP",
        "outputId": "08f277da-9f1c-4ca8-818d-0f92df56389c"
      },
      "execution_count": 27,
      "outputs": [
        {
          "output_type": "execute_result",
          "data": {
            "text/plain": [
              "array([[ 8.0824152e-02,  2.5124902e-01, -3.0142197e-01, ...,\n",
              "         2.8414570e-02,  5.7525616e-02, -5.2088588e-02],\n",
              "       [ 3.4854621e-02, -5.9561938e-04,  2.6087961e-01, ...,\n",
              "        -5.1593661e-02,  1.1241657e-01, -6.4906262e-02],\n",
              "       [-6.4843491e-02,  4.3788230e-01,  1.2025379e-01, ...,\n",
              "        -1.8715758e-02,  1.3748661e-01, -6.3541286e-02],\n",
              "       ...,\n",
              "       [-5.2045587e-02, -1.6873868e-01,  3.4901267e-01, ...,\n",
              "         1.7276837e-02, -6.6702195e-02,  6.5744601e-02],\n",
              "       [-1.4204444e-01, -3.5723202e-02, -1.8683924e-04, ...,\n",
              "         9.3284622e-03,  1.8755703e-01, -9.3719162e-02],\n",
              "       [-9.3927756e-02,  1.0548832e-01,  2.6555815e-01, ...,\n",
              "        -5.1850289e-02, -2.3549426e-02, -5.0644722e-02]], dtype=float32)"
            ]
          },
          "metadata": {},
          "execution_count": 27
        }
      ]
    },
    {
      "cell_type": "code",
      "source": [
        "# tamanho\n",
        "\n",
        "pesos_camada_dense.shape"
      ],
      "metadata": {
        "colab": {
          "base_uri": "https://localhost:8080/"
        },
        "id": "wBYxEcia5q_d",
        "outputId": "c4a336d5-2b73-4992-cdfd-0fb813822c83"
      },
      "execution_count": 28,
      "outputs": [
        {
          "output_type": "execute_result",
          "data": {
            "text/plain": [
              "(784, 256)"
            ]
          },
          "metadata": {},
          "execution_count": 28
        }
      ]
    },
    {
      "cell_type": "code",
      "source": [
        "# Vieses da primeira camada dense\n",
        "\n",
        "vieses_camada_dense = modelo.layers[1].get_weights()[1]\n",
        "vieses_camada_dense"
      ],
      "metadata": {
        "id": "DdOiPusd4MKp",
        "colab": {
          "base_uri": "https://localhost:8080/"
        },
        "outputId": "53b0833a-a391-47ab-f409-d76e0bb2e39a"
      },
      "execution_count": 29,
      "outputs": [
        {
          "output_type": "execute_result",
          "data": {
            "text/plain": [
              "array([-7.6022901e-02,  4.9277610e-01,  3.6883709e-01,  4.2084190e-01,\n",
              "       -7.6650064e-03,  2.4389333e-01,  1.9032349e-01,  1.3273188e-01,\n",
              "       -2.9920600e-02,  3.2945198e-01, -6.4462535e-02,  9.6731089e-02,\n",
              "       -3.2847159e-02, -2.9804090e-01, -1.5068238e-02,  1.6163671e-01,\n",
              "       -1.4632653e-01, -1.4080337e-01,  5.5394572e-01,  3.6673963e-01,\n",
              "        3.9469561e-01,  5.7321566e-01,  3.4836035e-02, -2.2345048e-01,\n",
              "       -1.0738774e-02,  1.3958989e-01,  3.0770588e-01,  2.4229674e-01,\n",
              "       -1.1418713e-02,  7.1124084e-02, -1.4490091e-02,  5.1028007e-01,\n",
              "        1.6603025e-03,  1.4011027e-01,  2.0470804e-01, -4.6314597e-02,\n",
              "       -1.1326168e-01,  2.0472617e-01,  2.1619992e-01, -1.4666492e-02,\n",
              "        1.4535236e-01,  4.4005758e-01,  1.7103523e-01, -7.0616484e-02,\n",
              "        3.8064680e-01,  2.8324959e-01, -3.7995562e-01,  3.2598767e-01,\n",
              "        4.8927274e-01,  1.7541381e-02,  6.4493679e-02, -1.8519665e-01,\n",
              "        1.0981849e-01,  4.9798051e-01,  6.1965454e-02, -1.8274805e-02,\n",
              "        2.2711112e-01,  1.1615382e-01,  3.0918384e-01,  2.0792142e-01,\n",
              "        6.6383988e-02,  2.9368332e-01,  1.2666805e-03,  1.4325337e-01,\n",
              "       -1.0953760e-02, -1.2979125e-02,  1.3624291e-01, -4.9347233e-02,\n",
              "       -7.4872901e-03,  4.4560928e-02,  2.9728299e-01,  3.2753149e-01,\n",
              "        1.7156084e-01, -1.1386364e-02, -5.4494601e-02,  1.1883041e-02,\n",
              "        3.4451261e-01,  2.3400593e-01, -1.4933193e-01, -6.7868247e-03,\n",
              "        6.5411901e-01, -1.4279868e-01,  4.3577519e-01, -3.7081135e-03,\n",
              "        4.3447223e-01, -8.4134109e-02,  3.0221370e-01, -1.4023749e-02,\n",
              "       -9.1428742e-02,  7.3030847e-01, -1.2092311e-02,  3.4279802e-01,\n",
              "       -3.6348760e-01,  4.0117967e-01, -6.0040742e-02,  1.9497631e-01,\n",
              "        1.8120953e-01,  2.8460112e-01,  3.9831212e-01,  9.2293032e-02,\n",
              "        2.5988042e-01,  1.8346344e-01,  1.9649562e-01,  2.7934232e-01,\n",
              "       -2.2794080e-01,  1.9628285e-01,  1.7665704e-01, -1.1952585e-01,\n",
              "        2.0372507e-01,  2.7244455e-01, -1.0470967e-01, -1.6288582e-02,\n",
              "        2.9525742e-01,  2.2821312e-01,  4.9418008e-01,  3.1021082e-01,\n",
              "        2.3153740e-01, -2.5475419e-01, -5.8108729e-01,  2.4119884e-01,\n",
              "        1.0074040e-02,  5.2039546e-01,  2.1385463e-01,  4.9534428e-01,\n",
              "       -2.4168965e-01,  4.8836154e-01,  2.1451387e-01,  1.3789207e-01,\n",
              "        2.2192113e-01,  3.4359857e-02, -2.3145694e-02,  4.3329217e-02,\n",
              "        2.3325635e-01,  2.2983365e-01, -2.1138202e-01,  3.4714174e-02,\n",
              "       -1.4093035e-02,  6.2447183e-02, -3.1433761e-01, -9.8802401e-03,\n",
              "       -1.3411734e-01,  4.2347607e-01,  5.3957617e-01,  2.7106303e-01,\n",
              "        2.6717898e-01, -1.6369198e-02,  1.0767613e-02, -1.5886192e-01,\n",
              "        5.1011044e-01,  1.2316772e-01, -7.5300564e-03,  1.6833800e-01,\n",
              "       -9.7951209e-03, -3.4937458e-03,  1.5708925e-01,  2.0897608e-01,\n",
              "        1.6880764e-01,  1.9554576e-01, -3.1801946e-02,  3.5942724e-01,\n",
              "        2.5156921e-01, -1.8538055e-01,  3.4877655e-01,  5.1828343e-01,\n",
              "        6.5149523e-02,  2.3454024e-01,  1.0384997e-01, -1.9113490e-01,\n",
              "        1.9715214e-02, -6.7186222e-04,  1.2492713e-01,  1.8856004e-01,\n",
              "        2.8280783e-01,  2.6433920e-02,  1.0490391e-01, -2.0642529e-01,\n",
              "        1.8841922e-01,  1.8419302e-01, -2.8909737e-01, -7.2753362e-02,\n",
              "        2.7717066e-01, -1.2755477e-01, -5.2808955e-02,  3.4268045e-01,\n",
              "       -1.9835986e-02,  6.0689021e-02, -1.4666629e-02,  1.6856821e-01,\n",
              "        1.8479691e-01,  1.0821431e-01,  4.5580989e-01, -4.8921952e-01,\n",
              "        1.8562874e-01,  3.3029443e-01,  2.4998927e-01, -1.5802316e-01,\n",
              "       -1.0054787e-01,  4.1028392e-01,  7.4274428e-02, -1.3544756e-01,\n",
              "        3.2096896e-01,  3.7246582e-01, -6.0948331e-02, -2.2200437e-01,\n",
              "       -2.1855637e-02, -1.7057097e-02, -1.4363607e-02,  2.1243595e-01,\n",
              "        4.4142726e-01,  2.4535641e-01,  2.9391938e-01,  4.8559245e-02,\n",
              "       -1.7055091e-01,  5.0912517e-01,  3.1446055e-01,  3.9637023e-01,\n",
              "       -4.7383800e-02, -7.9305977e-02,  6.3737273e-01,  9.5748216e-02,\n",
              "        1.2994877e-01, -6.2384084e-02,  1.7610963e-01, -2.5443554e-01,\n",
              "       -1.7012671e-02, -1.8745850e-01,  3.9814815e-02,  3.8414404e-01,\n",
              "       -1.2033155e-02,  9.1379955e-02, -1.6197784e-02,  9.3130693e-02,\n",
              "        7.9692528e-02,  1.0827341e-01,  5.1421863e-01,  7.7763982e-02,\n",
              "        2.6824284e-01,  7.1799643e-02,  1.6665541e-01, -1.1149510e-02,\n",
              "        4.7822189e-01,  4.0648848e-01,  1.1267352e-01,  3.6919463e-02,\n",
              "        2.7074254e-01,  3.0245626e-01, -9.8667787e-03,  1.5618479e-01,\n",
              "       -1.7967526e-02,  3.5472041e-01, -6.3256301e-02, -1.3939294e-02,\n",
              "        2.0942785e-01, -1.1940868e-02, -1.7971623e-01,  2.5148651e-01],\n",
              "      dtype=float32)"
            ]
          },
          "metadata": {},
          "execution_count": 29
        }
      ]
    },
    {
      "cell_type": "code",
      "source": [
        "# tamanho\n",
        "\n",
        "vieses_camada_dense.shape"
      ],
      "metadata": {
        "colab": {
          "base_uri": "https://localhost:8080/"
        },
        "id": "D-zDmmA1Uoot",
        "outputId": "c96fbe94-ab28-4027-b2cc-68e8c254f977"
      },
      "execution_count": 30,
      "outputs": [
        {
          "output_type": "execute_result",
          "data": {
            "text/plain": [
              "(256,)"
            ]
          },
          "metadata": {},
          "execution_count": 30
        }
      ]
    },
    {
      "cell_type": "code",
      "source": [
        "# Criando um array de 0 para zerar todos os pesos\n",
        "\n",
        "pesos_camada_dense_zeros = np.zeros((784, 256))"
      ],
      "metadata": {
        "id": "Lm_wA5KL5yzS"
      },
      "execution_count": 31,
      "outputs": []
    },
    {
      "cell_type": "code",
      "source": [
        "# Criando um array de 0 para zerar todos os vieses\n",
        "\n",
        "vieses_camada_dense_zeros = np.zeros((256,))"
      ],
      "metadata": {
        "id": "tDD_GJboHbj5"
      },
      "execution_count": 32,
      "outputs": []
    },
    {
      "cell_type": "code",
      "source": [
        "# Definindos os pesos e vieses zero\n",
        "\n",
        "modelo.layers[1].set_weights([pesos_camada_dense_zeros, vieses_camada_dense_zeros])"
      ],
      "metadata": {
        "id": "5yYQ0Vjh6fhu"
      },
      "execution_count": 33,
      "outputs": []
    },
    {
      "cell_type": "code",
      "source": [
        "# Verificando os pesos\n",
        "\n",
        "modelo.layers[1].get_weights()"
      ],
      "metadata": {
        "colab": {
          "base_uri": "https://localhost:8080/"
        },
        "id": "biB0E9bp7DaE",
        "outputId": "910be76e-8828-4887-9134-3055b8848d2d"
      },
      "execution_count": 34,
      "outputs": [
        {
          "output_type": "execute_result",
          "data": {
            "text/plain": [
              "[array([[0., 0., 0., ..., 0., 0., 0.],\n",
              "        [0., 0., 0., ..., 0., 0., 0.],\n",
              "        [0., 0., 0., ..., 0., 0., 0.],\n",
              "        ...,\n",
              "        [0., 0., 0., ..., 0., 0., 0.],\n",
              "        [0., 0., 0., ..., 0., 0., 0.],\n",
              "        [0., 0., 0., ..., 0., 0., 0.]], dtype=float32),\n",
              " array([0., 0., 0., 0., 0., 0., 0., 0., 0., 0., 0., 0., 0., 0., 0., 0., 0.,\n",
              "        0., 0., 0., 0., 0., 0., 0., 0., 0., 0., 0., 0., 0., 0., 0., 0., 0.,\n",
              "        0., 0., 0., 0., 0., 0., 0., 0., 0., 0., 0., 0., 0., 0., 0., 0., 0.,\n",
              "        0., 0., 0., 0., 0., 0., 0., 0., 0., 0., 0., 0., 0., 0., 0., 0., 0.,\n",
              "        0., 0., 0., 0., 0., 0., 0., 0., 0., 0., 0., 0., 0., 0., 0., 0., 0.,\n",
              "        0., 0., 0., 0., 0., 0., 0., 0., 0., 0., 0., 0., 0., 0., 0., 0., 0.,\n",
              "        0., 0., 0., 0., 0., 0., 0., 0., 0., 0., 0., 0., 0., 0., 0., 0., 0.,\n",
              "        0., 0., 0., 0., 0., 0., 0., 0., 0., 0., 0., 0., 0., 0., 0., 0., 0.,\n",
              "        0., 0., 0., 0., 0., 0., 0., 0., 0., 0., 0., 0., 0., 0., 0., 0., 0.,\n",
              "        0., 0., 0., 0., 0., 0., 0., 0., 0., 0., 0., 0., 0., 0., 0., 0., 0.,\n",
              "        0., 0., 0., 0., 0., 0., 0., 0., 0., 0., 0., 0., 0., 0., 0., 0., 0.,\n",
              "        0., 0., 0., 0., 0., 0., 0., 0., 0., 0., 0., 0., 0., 0., 0., 0., 0.,\n",
              "        0., 0., 0., 0., 0., 0., 0., 0., 0., 0., 0., 0., 0., 0., 0., 0., 0.,\n",
              "        0., 0., 0., 0., 0., 0., 0., 0., 0., 0., 0., 0., 0., 0., 0., 0., 0.,\n",
              "        0., 0., 0., 0., 0., 0., 0., 0., 0., 0., 0., 0., 0., 0., 0., 0., 0.,\n",
              "        0.], dtype=float32)]"
            ]
          },
          "metadata": {},
          "execution_count": 34
        }
      ]
    },
    {
      "cell_type": "code",
      "source": [
        "# modelo com pesos e vieses zerados\n",
        "\n",
        "modelo.compile(optimizer='adam',\n",
        "               loss='sparse_categorical_crossentropy',\n",
        "               metrics=['accuracy'])\n",
        "\n",
        "historico = modelo.fit(imagens_treino, idenficacoes_treino, epochs=10, validation_split=0.2)"
      ],
      "metadata": {
        "colab": {
          "base_uri": "https://localhost:8080/"
        },
        "id": "tYridIUf7M6k",
        "outputId": "24d13f09-34b1-4bf0-9c08-93ad7e76dbc4"
      },
      "execution_count": 35,
      "outputs": [
        {
          "output_type": "stream",
          "name": "stdout",
          "text": [
            "Epoch 1/10\n",
            "\u001b[1m1500/1500\u001b[0m \u001b[32m━━━━━━━━━━━━━━━━━━━━\u001b[0m\u001b[37m\u001b[0m \u001b[1m5s\u001b[0m 3ms/step - accuracy: 0.0988 - loss: 2.3161 - val_accuracy: 0.0983 - val_loss: 2.3030\n",
            "Epoch 2/10\n",
            "\u001b[1m1500/1500\u001b[0m \u001b[32m━━━━━━━━━━━━━━━━━━━━\u001b[0m\u001b[37m\u001b[0m \u001b[1m5s\u001b[0m 3ms/step - accuracy: 0.0983 - loss: 2.3028 - val_accuracy: 0.0957 - val_loss: 2.3027\n",
            "Epoch 3/10\n",
            "\u001b[1m1500/1500\u001b[0m \u001b[32m━━━━━━━━━━━━━━━━━━━━\u001b[0m\u001b[37m\u001b[0m \u001b[1m5s\u001b[0m 3ms/step - accuracy: 0.1006 - loss: 2.3028 - val_accuracy: 0.0957 - val_loss: 2.3028\n",
            "Epoch 4/10\n",
            "\u001b[1m1500/1500\u001b[0m \u001b[32m━━━━━━━━━━━━━━━━━━━━\u001b[0m\u001b[37m\u001b[0m \u001b[1m6s\u001b[0m 3ms/step - accuracy: 0.0968 - loss: 2.3028 - val_accuracy: 0.0983 - val_loss: 2.3028\n",
            "Epoch 5/10\n",
            "\u001b[1m1500/1500\u001b[0m \u001b[32m━━━━━━━━━━━━━━━━━━━━\u001b[0m\u001b[37m\u001b[0m \u001b[1m4s\u001b[0m 3ms/step - accuracy: 0.0983 - loss: 2.3027 - val_accuracy: 0.0995 - val_loss: 2.3028\n",
            "Epoch 6/10\n",
            "\u001b[1m1500/1500\u001b[0m \u001b[32m━━━━━━━━━━━━━━━━━━━━\u001b[0m\u001b[37m\u001b[0m \u001b[1m4s\u001b[0m 3ms/step - accuracy: 0.1019 - loss: 2.3027 - val_accuracy: 0.0995 - val_loss: 2.3027\n",
            "Epoch 7/10\n",
            "\u001b[1m1500/1500\u001b[0m \u001b[32m━━━━━━━━━━━━━━━━━━━━\u001b[0m\u001b[37m\u001b[0m \u001b[1m6s\u001b[0m 3ms/step - accuracy: 0.1001 - loss: 2.3027 - val_accuracy: 0.0983 - val_loss: 2.3028\n",
            "Epoch 8/10\n",
            "\u001b[1m1500/1500\u001b[0m \u001b[32m━━━━━━━━━━━━━━━━━━━━\u001b[0m\u001b[37m\u001b[0m \u001b[1m5s\u001b[0m 3ms/step - accuracy: 0.0996 - loss: 2.3026 - val_accuracy: 0.1003 - val_loss: 2.3027\n",
            "Epoch 9/10\n",
            "\u001b[1m1500/1500\u001b[0m \u001b[32m━━━━━━━━━━━━━━━━━━━━\u001b[0m\u001b[37m\u001b[0m \u001b[1m5s\u001b[0m 3ms/step - accuracy: 0.1021 - loss: 2.3027 - val_accuracy: 0.0983 - val_loss: 2.3029\n",
            "Epoch 10/10\n",
            "\u001b[1m1500/1500\u001b[0m \u001b[32m━━━━━━━━━━━━━━━━━━━━\u001b[0m\u001b[37m\u001b[0m \u001b[1m4s\u001b[0m 3ms/step - accuracy: 0.0996 - loss: 2.3028 - val_accuracy: 0.0983 - val_loss: 2.3027\n"
          ]
        }
      ]
    },
    {
      "cell_type": "code",
      "source": [
        "# gráfico de acurácia\n",
        "\n",
        "plt.plot(historico.history['accuracy']);\n",
        "plt.plot(historico.history['val_accuracy']);\n",
        "plt.title('Acurácia por Épocas')\n",
        "plt.xlabel('Épocas')\n",
        "plt.ylabel('Acurácia')\n",
        "plt.legend(['Treino', 'Validação'])"
      ],
      "metadata": {
        "colab": {
          "base_uri": "https://localhost:8080/",
          "height": 493
        },
        "id": "qNFLbMRTYWWe",
        "outputId": "1a886c44-d7ab-4e99-b599-80eaf3448196"
      },
      "execution_count": 36,
      "outputs": [
        {
          "output_type": "execute_result",
          "data": {
            "text/plain": [
              "<matplotlib.legend.Legend at 0x7c7e1c8c0f50>"
            ]
          },
          "metadata": {},
          "execution_count": 36
        },
        {
          "output_type": "display_data",
          "data": {
            "text/plain": [
              "<Figure size 640x480 with 1 Axes>"
            ],
            "image/png": "[encoded data removed]"
          },
          "metadata": {}
        }
      ]
    },
    {
      "cell_type": "code",
      "source": [
        "# gráfico de perda\n",
        "\n",
        "plt.plot(historico.history['loss']);\n",
        "plt.plot(historico.history['val_loss']);\n",
        "plt.title('Perda por Épocas')\n",
        "plt.xlabel('Épocas')\n",
        "plt.ylabel('Perda')\n",
        "plt.legend(['Treino', 'Validação'])"
      ],
      "metadata": {
        "colab": {
          "base_uri": "https://localhost:8080/",
          "height": 493
        },
        "id": "QxunwZoaY5KK",
        "outputId": "b984c642-f719-4a7c-d82a-3da2208c524f"
      },
      "execution_count": 37,
      "outputs": [
        {
          "output_type": "execute_result",
          "data": {
            "text/plain": [
              "<matplotlib.legend.Legend at 0x7c7e1c8f2410>"
            ]
          },
          "metadata": {},
          "execution_count": 37
        },
        {
          "output_type": "display_data",
          "data": {
            "text/plain": [
              "<Figure size 640x480 with 1 Axes>"
            ],
            "image/png": "[encoded data removed]"
          },
          "metadata": {}
        }
      ]
    },
    {
      "cell_type": "markdown",
      "source": [
        "Com pesos e vieses zerados fizeram o modelo apresentou resultados muito ruins ao decorrer das 10 épocas de treinamento."
      ],
      "metadata": {
        "id": "HbLDbPG-YeMm"
      }
    },
    {
      "cell_type": "markdown",
      "source": [
        "## Pesos aleatórios"
      ],
      "metadata": {
        "id": "hMDxYxoVWwJY"
      }
    },
    {
      "cell_type": "code",
      "source": [
        "# gerar pesos aleatórios\n",
        "\n",
        "pesos_camada_dense_aleatorios = np.random.rand(784, 256)\n",
        "pesos_camada_dense_aleatorios"
      ],
      "metadata": {
        "colab": {
          "base_uri": "https://localhost:8080/"
        },
        "id": "BqdAEgPMAK-z",
        "outputId": "f08715fb-dc11-4e11-d78e-c5708d814a91"
      },
      "execution_count": 38,
      "outputs": [
        {
          "output_type": "execute_result",
          "data": {
            "text/plain": [
              "array([[0.32580209, 0.21259686, 0.25010099, ..., 0.31781104, 0.28591955,\n",
              "        0.32622845],\n",
              "       [0.88608493, 0.09285302, 0.93778617, ..., 0.35602777, 0.98492164,\n",
              "        0.77602805],\n",
              "       [0.93688397, 0.32997024, 0.61559259, ..., 0.47880854, 0.08949962,\n",
              "        0.02487631],\n",
              "       ...,\n",
              "       [0.60683721, 0.34776275, 0.94371422, ..., 0.2291693 , 0.51629817,\n",
              "        0.0173903 ],\n",
              "       [0.58406408, 0.92068754, 0.25381773, ..., 0.06144224, 0.17875836,\n",
              "        0.954239  ],\n",
              "       [0.52580738, 0.46337021, 0.67446295, ..., 0.23260933, 0.86709568,\n",
              "        0.76600658]])"
            ]
          },
          "metadata": {},
          "execution_count": 38
        }
      ]
    },
    {
      "cell_type": "code",
      "source": [
        "# definir os pesos aleatórios\n",
        "\n",
        "modelo.layers[1].set_weights([pesos_camada_dense_aleatorios, vieses_camada_dense])"
      ],
      "metadata": {
        "id": "27p7sLp4Aoco"
      },
      "execution_count": 39,
      "outputs": []
    },
    {
      "cell_type": "code",
      "source": [
        "modelo.layers[1].get_weights()"
      ],
      "metadata": {
        "colab": {
          "base_uri": "https://localhost:8080/"
        },
        "id": "QW0CIkuXBisB",
        "outputId": "ec56c941-e21b-4fac-d2e8-a6a73914ce21",
        "collapsed": true
      },
      "execution_count": 40,
      "outputs": [
        {
          "output_type": "execute_result",
          "data": {
            "text/plain": [
              "[array([[0.3258021 , 0.21259686, 0.250101  , ..., 0.31781104, 0.28591955,\n",
              "         0.32622844],\n",
              "        [0.8860849 , 0.09285302, 0.93778616, ..., 0.35602778, 0.98492163,\n",
              "         0.77602804],\n",
              "        [0.936884  , 0.32997024, 0.6155926 , ..., 0.47880855, 0.08949962,\n",
              "         0.02487631],\n",
              "        ...,\n",
              "        [0.6068372 , 0.34776273, 0.9437142 , ..., 0.2291693 , 0.5162982 ,\n",
              "         0.0173903 ],\n",
              "        [0.58406407, 0.92068756, 0.25381774, ..., 0.06144224, 0.17875837,\n",
              "         0.954239  ],\n",
              "        [0.5258074 , 0.4633702 , 0.674463  , ..., 0.23260933, 0.86709565,\n",
              "         0.7660066 ]], dtype=float32),\n",
              " array([-7.6022901e-02,  4.9277610e-01,  3.6883709e-01,  4.2084190e-01,\n",
              "        -7.6650064e-03,  2.4389333e-01,  1.9032349e-01,  1.3273188e-01,\n",
              "        -2.9920600e-02,  3.2945198e-01, -6.4462535e-02,  9.6731089e-02,\n",
              "        -3.2847159e-02, -2.9804090e-01, -1.5068238e-02,  1.6163671e-01,\n",
              "        -1.4632653e-01, -1.4080337e-01,  5.5394572e-01,  3.6673963e-01,\n",
              "         3.9469561e-01,  5.7321566e-01,  3.4836035e-02, -2.2345048e-01,\n",
              "        -1.0738774e-02,  1.3958989e-01,  3.0770588e-01,  2.4229674e-01,\n",
              "        -1.1418713e-02,  7.1124084e-02, -1.4490091e-02,  5.1028007e-01,\n",
              "         1.6603025e-03,  1.4011027e-01,  2.0470804e-01, -4.6314597e-02,\n",
              "        -1.1326168e-01,  2.0472617e-01,  2.1619992e-01, -1.4666492e-02,\n",
              "         1.4535236e-01,  4.4005758e-01,  1.7103523e-01, -7.0616484e-02,\n",
              "         3.8064680e-01,  2.8324959e-01, -3.7995562e-01,  3.2598767e-01,\n",
              "         4.8927274e-01,  1.7541381e-02,  6.4493679e-02, -1.8519665e-01,\n",
              "         1.0981849e-01,  4.9798051e-01,  6.1965454e-02, -1.8274805e-02,\n",
              "         2.2711112e-01,  1.1615382e-01,  3.0918384e-01,  2.0792142e-01,\n",
              "         6.6383988e-02,  2.9368332e-01,  1.2666805e-03,  1.4325337e-01,\n",
              "        -1.0953760e-02, -1.2979125e-02,  1.3624291e-01, -4.9347233e-02,\n",
              "        -7.4872901e-03,  4.4560928e-02,  2.9728299e-01,  3.2753149e-01,\n",
              "         1.7156084e-01, -1.1386364e-02, -5.4494601e-02,  1.1883041e-02,\n",
              "         3.4451261e-01,  2.3400593e-01, -1.4933193e-01, -6.7868247e-03,\n",
              "         6.5411901e-01, -1.4279868e-01,  4.3577519e-01, -3.7081135e-03,\n",
              "         4.3447223e-01, -8.4134109e-02,  3.0221370e-01, -1.4023749e-02,\n",
              "        -9.1428742e-02,  7.3030847e-01, -1.2092311e-02,  3.4279802e-01,\n",
              "        -3.6348760e-01,  4.0117967e-01, -6.0040742e-02,  1.9497631e-01,\n",
              "         1.8120953e-01,  2.8460112e-01,  3.9831212e-01,  9.2293032e-02,\n",
              "         2.5988042e-01,  1.8346344e-01,  1.9649562e-01,  2.7934232e-01,\n",
              "        -2.2794080e-01,  1.9628285e-01,  1.7665704e-01, -1.1952585e-01,\n",
              "         2.0372507e-01,  2.7244455e-01, -1.0470967e-01, -1.6288582e-02,\n",
              "         2.9525742e-01,  2.2821312e-01,  4.9418008e-01,  3.1021082e-01,\n",
              "         2.3153740e-01, -2.5475419e-01, -5.8108729e-01,  2.4119884e-01,\n",
              "         1.0074040e-02,  5.2039546e-01,  2.1385463e-01,  4.9534428e-01,\n",
              "        -2.4168965e-01,  4.8836154e-01,  2.1451387e-01,  1.3789207e-01,\n",
              "         2.2192113e-01,  3.4359857e-02, -2.3145694e-02,  4.3329217e-02,\n",
              "         2.3325635e-01,  2.2983365e-01, -2.1138202e-01,  3.4714174e-02,\n",
              "        -1.4093035e-02,  6.2447183e-02, -3.1433761e-01, -9.8802401e-03,\n",
              "        -1.3411734e-01,  4.2347607e-01,  5.3957617e-01,  2.7106303e-01,\n",
              "         2.6717898e-01, -1.6369198e-02,  1.0767613e-02, -1.5886192e-01,\n",
              "         5.1011044e-01,  1.2316772e-01, -7.5300564e-03,  1.6833800e-01,\n",
              "        -9.7951209e-03, -3.4937458e-03,  1.5708925e-01,  2.0897608e-01,\n",
              "         1.6880764e-01,  1.9554576e-01, -3.1801946e-02,  3.5942724e-01,\n",
              "         2.5156921e-01, -1.8538055e-01,  3.4877655e-01,  5.1828343e-01,\n",
              "         6.5149523e-02,  2.3454024e-01,  1.0384997e-01, -1.9113490e-01,\n",
              "         1.9715214e-02, -6.7186222e-04,  1.2492713e-01,  1.8856004e-01,\n",
              "         2.8280783e-01,  2.6433920e-02,  1.0490391e-01, -2.0642529e-01,\n",
              "         1.8841922e-01,  1.8419302e-01, -2.8909737e-01, -7.2753362e-02,\n",
              "         2.7717066e-01, -1.2755477e-01, -5.2808955e-02,  3.4268045e-01,\n",
              "        -1.9835986e-02,  6.0689021e-02, -1.4666629e-02,  1.6856821e-01,\n",
              "         1.8479691e-01,  1.0821431e-01,  4.5580989e-01, -4.8921952e-01,\n",
              "         1.8562874e-01,  3.3029443e-01,  2.4998927e-01, -1.5802316e-01,\n",
              "        -1.0054787e-01,  4.1028392e-01,  7.4274428e-02, -1.3544756e-01,\n",
              "         3.2096896e-01,  3.7246582e-01, -6.0948331e-02, -2.2200437e-01,\n",
              "        -2.1855637e-02, -1.7057097e-02, -1.4363607e-02,  2.1243595e-01,\n",
              "         4.4142726e-01,  2.4535641e-01,  2.9391938e-01,  4.8559245e-02,\n",
              "        -1.7055091e-01,  5.0912517e-01,  3.1446055e-01,  3.9637023e-01,\n",
              "        -4.7383800e-02, -7.9305977e-02,  6.3737273e-01,  9.5748216e-02,\n",
              "         1.2994877e-01, -6.2384084e-02,  1.7610963e-01, -2.5443554e-01,\n",
              "        -1.7012671e-02, -1.8745850e-01,  3.9814815e-02,  3.8414404e-01,\n",
              "        -1.2033155e-02,  9.1379955e-02, -1.6197784e-02,  9.3130693e-02,\n",
              "         7.9692528e-02,  1.0827341e-01,  5.1421863e-01,  7.7763982e-02,\n",
              "         2.6824284e-01,  7.1799643e-02,  1.6665541e-01, -1.1149510e-02,\n",
              "         4.7822189e-01,  4.0648848e-01,  1.1267352e-01,  3.6919463e-02,\n",
              "         2.7074254e-01,  3.0245626e-01, -9.8667787e-03,  1.5618479e-01,\n",
              "        -1.7967526e-02,  3.5472041e-01, -6.3256301e-02, -1.3939294e-02,\n",
              "         2.0942785e-01, -1.1940868e-02, -1.7971623e-01,  2.5148651e-01],\n",
              "       dtype=float32)]"
            ]
          },
          "metadata": {},
          "execution_count": 40
        }
      ]
    },
    {
      "cell_type": "code",
      "source": [
        "# treinar modelo com pesos aleatórios\n",
        "\n",
        "modelo.compile(optimizer='adam',\n",
        "               loss='sparse_categorical_crossentropy',\n",
        "               metrics=['accuracy'])\n",
        "\n",
        "historico = modelo.fit(imagens_treino, idenficacoes_treino, epochs=10, validation_split=0.2)"
      ],
      "metadata": {
        "colab": {
          "base_uri": "https://localhost:8080/"
        },
        "id": "8wIhOlDLA8VQ",
        "outputId": "3060ec64-21f4-4b13-95ea-940d1ac34ce9"
      },
      "execution_count": 41,
      "outputs": [
        {
          "output_type": "stream",
          "name": "stdout",
          "text": [
            "Epoch 1/10\n",
            "\u001b[1m1500/1500\u001b[0m \u001b[32m━━━━━━━━━━━━━━━━━━━━\u001b[0m\u001b[37m\u001b[0m \u001b[1m5s\u001b[0m 3ms/step - accuracy: 0.2944 - loss: 196.3787 - val_accuracy: 0.7262 - val_loss: 17.4945\n",
            "Epoch 2/10\n",
            "\u001b[1m1500/1500\u001b[0m \u001b[32m━━━━━━━━━━━━━━━━━━━━\u001b[0m\u001b[37m\u001b[0m \u001b[1m4s\u001b[0m 3ms/step - accuracy: 0.6095 - loss: 37.4938 - val_accuracy: 0.7328 - val_loss: 11.8228\n",
            "Epoch 3/10\n",
            "\u001b[1m1500/1500\u001b[0m \u001b[32m━━━━━━━━━━━━━━━━━━━━\u001b[0m\u001b[37m\u001b[0m \u001b[1m4s\u001b[0m 3ms/step - accuracy: 0.6908 - loss: 17.2559 - val_accuracy: 0.7399 - val_loss: 6.7114\n",
            "Epoch 4/10\n",
            "\u001b[1m1500/1500\u001b[0m \u001b[32m━━━━━━━━━━━━━━━━━━━━\u001b[0m\u001b[37m\u001b[0m \u001b[1m5s\u001b[0m 3ms/step - accuracy: 0.7243 - loss: 8.1692 - val_accuracy: 0.7958 - val_loss: 3.7304\n",
            "Epoch 5/10\n",
            "\u001b[1m1500/1500\u001b[0m \u001b[32m━━━━━━━━━━━━━━━━━━━━\u001b[0m\u001b[37m\u001b[0m \u001b[1m4s\u001b[0m 3ms/step - accuracy: 0.7499 - loss: 4.3316 - val_accuracy: 0.7598 - val_loss: 2.6423\n",
            "Epoch 6/10\n",
            "\u001b[1m1500/1500\u001b[0m \u001b[32m━━━━━━━━━━━━━━━━━━━━\u001b[0m\u001b[37m\u001b[0m \u001b[1m5s\u001b[0m 3ms/step - accuracy: 0.7683 - loss: 2.4730 - val_accuracy: 0.8079 - val_loss: 1.4800\n",
            "Epoch 7/10\n",
            "\u001b[1m1500/1500\u001b[0m \u001b[32m━━━━━━━━━━━━━━━━━━━━\u001b[0m\u001b[37m\u001b[0m \u001b[1m4s\u001b[0m 3ms/step - accuracy: 0.7949 - loss: 1.3445 - val_accuracy: 0.8194 - val_loss: 0.9376\n",
            "Epoch 8/10\n",
            "\u001b[1m1500/1500\u001b[0m \u001b[32m━━━━━━━━━━━━━━━━━━━━\u001b[0m\u001b[37m\u001b[0m \u001b[1m4s\u001b[0m 3ms/step - accuracy: 0.8141 - loss: 0.8080 - val_accuracy: 0.8233 - val_loss: 0.6699\n",
            "Epoch 9/10\n",
            "\u001b[1m1500/1500\u001b[0m \u001b[32m━━━━━━━━━━━━━━━━━━━━\u001b[0m\u001b[37m\u001b[0m \u001b[1m5s\u001b[0m 3ms/step - accuracy: 0.8349 - loss: 0.5598 - val_accuracy: 0.8478 - val_loss: 0.5278\n",
            "Epoch 10/10\n",
            "\u001b[1m1500/1500\u001b[0m \u001b[32m━━━━━━━━━━━━━━━━━━━━\u001b[0m\u001b[37m\u001b[0m \u001b[1m4s\u001b[0m 3ms/step - accuracy: 0.8496 - loss: 0.4685 - val_accuracy: 0.8583 - val_loss: 0.4800\n"
          ]
        }
      ]
    },
    {
      "cell_type": "code",
      "source": [
        "# gráfico de acurácia\n",
        "\n",
        "plt.plot(historico.history['accuracy']);\n",
        "plt.plot(historico.history['val_accuracy']);\n",
        "plt.title('Acurácia por Épocas')\n",
        "plt.xlabel('Épocas')\n",
        "plt.ylabel('Acurácia')\n",
        "plt.legend(['Treino', 'Validação'])"
      ],
      "metadata": {
        "colab": {
          "base_uri": "https://localhost:8080/",
          "height": 493
        },
        "id": "QtWfsJfwa4w1",
        "outputId": "52821280-4c06-470f-a5b3-09723068bb9c"
      },
      "execution_count": 42,
      "outputs": [
        {
          "output_type": "execute_result",
          "data": {
            "text/plain": [
              "<matplotlib.legend.Legend at 0x7c7e1c52e990>"
            ]
          },
          "metadata": {},
          "execution_count": 42
        },
        {
          "output_type": "display_data",
          "data": {
            "text/plain": [
              "<Figure size 640x480 with 1 Axes>"
            ],
            "image/png": "[encoded data removed]"
          },
          "metadata": {}
        }
      ]
    },
    {
      "cell_type": "code",
      "source": [
        "# gráfico de perda\n",
        "\n",
        "plt.plot(historico.history['loss']);\n",
        "plt.plot(historico.history['val_loss']);\n",
        "plt.title('Perda por Épocas')\n",
        "plt.xlabel('Épocas')\n",
        "plt.ylabel('Perda')\n",
        "plt.legend(['Treino', 'Validação'])"
      ],
      "metadata": {
        "colab": {
          "base_uri": "https://localhost:8080/",
          "height": 493
        },
        "id": "52ZJXnYaa_eY",
        "outputId": "00e4096d-5fe1-42cd-b16c-67e92edb80b7"
      },
      "execution_count": 43,
      "outputs": [
        {
          "output_type": "execute_result",
          "data": {
            "text/plain": [
              "<matplotlib.legend.Legend at 0x7c7e3c48fdd0>"
            ]
          },
          "metadata": {},
          "execution_count": 43
        },
        {
          "output_type": "display_data",
          "data": {
            "text/plain": [
              "<Figure size 640x480 with 1 Axes>"
            ],
            "image/png": "[encoded data removed]"
          },
          "metadata": {}
        }
      ]
    },
    {
      "cell_type": "markdown",
      "source": [
        "# Ajuste de hiperparametros do otimizador"
      ],
      "metadata": {
        "id": "FLiOzvxcbM1U"
      }
    },
    {
      "cell_type": "code",
      "source": [
        "# compilar com learning_rate=0.002\n",
        "\n",
        "adam = keras.optimizers.Adam(learning_rate=0.002)\n",
        "\n",
        "modelo.compile(optimizer=adam,\n",
        "               loss='sparse_categorical_crossentropy',\n",
        "               metrics=['accuracy'])\n",
        "\n",
        "historico = modelo.fit(imagens_treino, idenficacoes_treino, epochs=10, validation_split=0.2)"
      ],
      "metadata": {
        "colab": {
          "base_uri": "https://localhost:8080/"
        },
        "id": "wZvEN9IktaMZ",
        "outputId": "9a368891-8476-4e85-b446-35a5007d0e16"
      },
      "execution_count": 44,
      "outputs": [
        {
          "output_type": "stream",
          "name": "stdout",
          "text": [
            "Epoch 1/10\n",
            "\u001b[1m1500/1500\u001b[0m \u001b[32m━━━━━━━━━━━━━━━━━━━━\u001b[0m\u001b[37m\u001b[0m \u001b[1m6s\u001b[0m 3ms/step - accuracy: 0.8407 - loss: 0.4801 - val_accuracy: 0.8564 - val_loss: 0.4615\n",
            "Epoch 2/10\n",
            "\u001b[1m1500/1500\u001b[0m \u001b[32m━━━━━━━━━━━━━━━━━━━━\u001b[0m\u001b[37m\u001b[0m \u001b[1m4s\u001b[0m 3ms/step - accuracy: 0.8538 - loss: 0.4178 - val_accuracy: 0.8652 - val_loss: 0.4103\n",
            "Epoch 3/10\n",
            "\u001b[1m1500/1500\u001b[0m \u001b[32m━━━━━━━━━━━━━━━━━━━━\u001b[0m\u001b[37m\u001b[0m \u001b[1m4s\u001b[0m 3ms/step - accuracy: 0.8656 - loss: 0.3815 - val_accuracy: 0.8653 - val_loss: 0.4041\n",
            "Epoch 4/10\n",
            "\u001b[1m1500/1500\u001b[0m \u001b[32m━━━━━━━━━━━━━━━━━━━━\u001b[0m\u001b[37m\u001b[0m \u001b[1m5s\u001b[0m 3ms/step - accuracy: 0.8698 - loss: 0.3613 - val_accuracy: 0.8643 - val_loss: 0.4090\n",
            "Epoch 5/10\n",
            "\u001b[1m1500/1500\u001b[0m \u001b[32m━━━━━━━━━━━━━━━━━━━━\u001b[0m\u001b[37m\u001b[0m \u001b[1m5s\u001b[0m 3ms/step - accuracy: 0.8765 - loss: 0.3457 - val_accuracy: 0.8727 - val_loss: 0.3712\n",
            "Epoch 6/10\n",
            "\u001b[1m1500/1500\u001b[0m \u001b[32m━━━━━━━━━━━━━━━━━━━━\u001b[0m\u001b[37m\u001b[0m \u001b[1m6s\u001b[0m 3ms/step - accuracy: 0.8746 - loss: 0.3379 - val_accuracy: 0.8776 - val_loss: 0.3617\n",
            "Epoch 7/10\n",
            "\u001b[1m1500/1500\u001b[0m \u001b[32m━━━━━━━━━━━━━━━━━━━━\u001b[0m\u001b[37m\u001b[0m \u001b[1m5s\u001b[0m 3ms/step - accuracy: 0.8829 - loss: 0.3196 - val_accuracy: 0.8762 - val_loss: 0.3679\n",
            "Epoch 8/10\n",
            "\u001b[1m1500/1500\u001b[0m \u001b[32m━━━━━━━━━━━━━━━━━━━━\u001b[0m\u001b[37m\u001b[0m \u001b[1m6s\u001b[0m 3ms/step - accuracy: 0.8863 - loss: 0.3085 - val_accuracy: 0.8669 - val_loss: 0.3902\n",
            "Epoch 9/10\n",
            "\u001b[1m1500/1500\u001b[0m \u001b[32m━━━━━━━━━━━━━━━━━━━━\u001b[0m\u001b[37m\u001b[0m \u001b[1m4s\u001b[0m 3ms/step - accuracy: 0.8864 - loss: 0.3060 - val_accuracy: 0.8704 - val_loss: 0.3888\n",
            "Epoch 10/10\n",
            "\u001b[1m1500/1500\u001b[0m \u001b[32m━━━━━━━━━━━━━━━━━━━━\u001b[0m\u001b[37m\u001b[0m \u001b[1m6s\u001b[0m 3ms/step - accuracy: 0.8929 - loss: 0.2902 - val_accuracy: 0.8702 - val_loss: 0.3913\n"
          ]
        }
      ]
    },
    {
      "cell_type": "markdown",
      "source": [
        "Modelo inicial: accuracy: 0.9104 - loss: 0.2352 - val_accuracy: 0.8828 - val_loss: 0.3472"
      ],
      "metadata": {
        "id": "Lz4yaq3_c0jl"
      }
    },
    {
      "cell_type": "markdown",
      "source": [
        "Ao aumentar suavemente o LR, não alterou significativamente os resultados de treino e validação"
      ],
      "metadata": {
        "id": "p0q4E0jrcp-5"
      }
    },
    {
      "cell_type": "code",
      "source": [
        "# compilar com learning_rate=0.5 e batch_size=480\n",
        "\n",
        "adam = keras.optimizers.Adam(learning_rate=0.5)\n",
        "\n",
        "modelo.compile(optimizer=adam,\n",
        "               loss='sparse_categorical_crossentropy',\n",
        "               metrics=['accuracy'])\n",
        "\n",
        "historico = modelo.fit(imagens_treino, idenficacoes_treino, batch_size=480, epochs=10, validation_split=0.2)"
      ],
      "metadata": {
        "colab": {
          "base_uri": "https://localhost:8080/"
        },
        "id": "0DOR4EsUzIxL",
        "outputId": "0b183fd4-b2c3-40da-baaa-862295955fe1"
      },
      "execution_count": 45,
      "outputs": [
        {
          "output_type": "stream",
          "name": "stdout",
          "text": [
            "Epoch 1/10\n",
            "\u001b[1m100/100\u001b[0m \u001b[32m━━━━━━━━━━━━━━━━━━━━\u001b[0m\u001b[37m\u001b[0m \u001b[1m3s\u001b[0m 21ms/step - accuracy: 0.1935 - loss: 262.1052 - val_accuracy: 0.1147 - val_loss: 2.3018\n",
            "Epoch 2/10\n",
            "\u001b[1m100/100\u001b[0m \u001b[32m━━━━━━━━━━━━━━━━━━━━\u001b[0m\u001b[37m\u001b[0m \u001b[1m2s\u001b[0m 21ms/step - accuracy: 0.1150 - loss: 2.2775 - val_accuracy: 0.1311 - val_loss: 2.2521\n",
            "Epoch 3/10\n",
            "\u001b[1m100/100\u001b[0m \u001b[32m━━━━━━━━━━━━━━━━━━━━\u001b[0m\u001b[37m\u001b[0m \u001b[1m2s\u001b[0m 11ms/step - accuracy: 0.1253 - loss: 2.2532 - val_accuracy: 0.1331 - val_loss: 2.2325\n",
            "Epoch 4/10\n",
            "\u001b[1m100/100\u001b[0m \u001b[32m━━━━━━━━━━━━━━━━━━━━\u001b[0m\u001b[37m\u001b[0m \u001b[1m1s\u001b[0m 10ms/step - accuracy: 0.1369 - loss: 2.2357 - val_accuracy: 0.1519 - val_loss: 2.2049\n",
            "Epoch 5/10\n",
            "\u001b[1m100/100\u001b[0m \u001b[32m━━━━━━━━━━━━━━━━━━━━\u001b[0m\u001b[37m\u001b[0m \u001b[1m1s\u001b[0m 11ms/step - accuracy: 0.1452 - loss: 2.2112 - val_accuracy: 0.1497 - val_loss: 2.2022\n",
            "Epoch 6/10\n",
            "\u001b[1m100/100\u001b[0m \u001b[32m━━━━━━━━━━━━━━━━━━━━\u001b[0m\u001b[37m\u001b[0m \u001b[1m1s\u001b[0m 11ms/step - accuracy: 0.1448 - loss: 2.2067 - val_accuracy: 0.1609 - val_loss: 2.1766\n",
            "Epoch 7/10\n",
            "\u001b[1m100/100\u001b[0m \u001b[32m━━━━━━━━━━━━━━━━━━━━\u001b[0m\u001b[37m\u001b[0m \u001b[1m1s\u001b[0m 10ms/step - accuracy: 0.1573 - loss: 2.1705 - val_accuracy: 0.1473 - val_loss: 2.1970\n",
            "Epoch 8/10\n",
            "\u001b[1m100/100\u001b[0m \u001b[32m━━━━━━━━━━━━━━━━━━━━\u001b[0m\u001b[37m\u001b[0m \u001b[1m1s\u001b[0m 10ms/step - accuracy: 0.1474 - loss: 2.1996 - val_accuracy: 0.1650 - val_loss: 2.1467\n",
            "Epoch 9/10\n",
            "\u001b[1m100/100\u001b[0m \u001b[32m━━━━━━━━━━━━━━━━━━━━\u001b[0m\u001b[37m\u001b[0m \u001b[1m1s\u001b[0m 10ms/step - accuracy: 0.1454 - loss: 2.2108 - val_accuracy: 0.0996 - val_loss: 2.3124\n",
            "Epoch 10/10\n",
            "\u001b[1m100/100\u001b[0m \u001b[32m━━━━━━━━━━━━━━━━━━━━\u001b[0m\u001b[37m\u001b[0m \u001b[1m1s\u001b[0m 10ms/step - accuracy: 0.1015 - loss: 2.3011 - val_accuracy: 0.1312 - val_loss: 2.2613\n"
          ]
        }
      ]
    },
    {
      "cell_type": "markdown",
      "source": [
        "Aumentar o LR e o batch size fez o modelo treinar mais rápido porém apresentou resultados ruins"
      ],
      "metadata": {
        "id": "0hJNevqNdIC_"
      }
    },
    {
      "cell_type": "markdown",
      "source": [
        "# Callback"
      ],
      "metadata": {
        "id": "wBBz2qAG3WT-"
      }
    },
    {
      "cell_type": "markdown",
      "source": [
        "A perda de validação estacionada pode indicar que chegamos a um mínimo local"
      ],
      "metadata": {
        "id": "TxqwOQth3mW0"
      }
    },
    {
      "cell_type": "code",
      "source": [
        "# definir o modelo com callback\n",
        "\n",
        "modelo = keras.Sequential([\n",
        "    keras.layers.Input(shape=(28, 28, 1)), # camada de entrada\n",
        "    keras.layers.Flatten(), # camada de redução de dimensionalidade\n",
        "    keras.layers.Dense(256, activation=tensorflow.nn.relu), # camada oculta\n",
        "    keras.layers.Dropout(0.2), # camada de dropout\n",
        "    keras.layers.Dense(10, activation=tensorflow.nn.softmax) # camada de saída\n",
        "])\n",
        "\n",
        "adam = keras.optimizers.Adam(learning_rate=0.5)\n",
        "\n",
        "parada = [keras.callbacks.EarlyStopping(monitor='val_loss')]\n",
        "\n",
        "modelo.compile(optimizer=adam,\n",
        "               loss='sparse_categorical_crossentropy',\n",
        "               metrics=['accuracy'])\n",
        "\n",
        "historico = modelo.fit(imagens_treino, idenficacoes_treino,\n",
        "                       batch_size=480, epochs=10,\n",
        "                       validation_split=0.2,\n",
        "                       callbacks=parada)"
      ],
      "metadata": {
        "colab": {
          "base_uri": "https://localhost:8080/"
        },
        "id": "4DCV_pbg3Vli",
        "outputId": "36274fb8-4371-49b4-f690-a5ede5ce7456"
      },
      "execution_count": 46,
      "outputs": [
        {
          "output_type": "stream",
          "name": "stdout",
          "text": [
            "Epoch 1/10\n",
            "\u001b[1m100/100\u001b[0m \u001b[32m━━━━━━━━━━━━━━━━━━━━\u001b[0m\u001b[37m\u001b[0m \u001b[1m2s\u001b[0m 14ms/step - accuracy: 0.1955 - loss: 355.9196 - val_accuracy: 0.2122 - val_loss: 2.0713\n",
            "Epoch 2/10\n",
            "\u001b[1m100/100\u001b[0m \u001b[32m━━━━━━━━━━━━━━━━━━━━\u001b[0m\u001b[37m\u001b[0m \u001b[1m2s\u001b[0m 11ms/step - accuracy: 0.2041 - loss: 2.0532 - val_accuracy: 0.1982 - val_loss: 2.0603\n",
            "Epoch 3/10\n",
            "\u001b[1m100/100\u001b[0m \u001b[32m━━━━━━━━━━━━━━━━━━━━\u001b[0m\u001b[37m\u001b[0m \u001b[1m1s\u001b[0m 10ms/step - accuracy: 0.1735 - loss: 2.1503 - val_accuracy: 0.1863 - val_loss: 2.0960\n"
          ]
        }
      ]
    },
    {
      "cell_type": "markdown",
      "source": [
        "o modelo parou na 3 época pois o parâmetro monitorado não iria mais se alterar"
      ],
      "metadata": {
        "id": "SA3nMn4C4Pii"
      }
    },
    {
      "cell_type": "code",
      "source": [
        "# Callbacks - EarlyStop e Checkpoint\n",
        "\n",
        "modelo = keras.Sequential([\n",
        "    keras.layers.Input(shape=(28, 28, 1)), # camada de entrada\n",
        "    keras.layers.Flatten(), # camada de redução de dimensionalidade\n",
        "    keras.layers.Dense(256, activation=tensorflow.nn.relu), # camada oculta\n",
        "    keras.layers.Dropout(0.2), # camada de dropout\n",
        "    keras.layers.Dense(10, activation=tensorflow.nn.softmax) # camada de saída\n",
        "])\n",
        "\n",
        "adam = keras.optimizers.Adam(learning_rate=0.5)\n",
        "\n",
        "parar_cedo = [keras.callbacks.EarlyStopping(monitor='val_loss'),\n",
        "              keras.callbacks.ModelCheckpoint(filepath='melhor_modelo.keras', monitor='val_loss', save_best_only=True)]\n",
        "\n",
        "modelo.compile(optimizer=adam,\n",
        "               loss='sparse_categorical_crossentropy',\n",
        "               metrics=['accuracy'])\n",
        "\n",
        "historico = modelo.fit(imagens_treino, idenficacoes_treino,\n",
        "                       batch_size=480, epochs=10,\n",
        "                       validation_split=0.2,\n",
        "                       callbacks=parar_cedo)"
      ],
      "metadata": {
        "colab": {
          "base_uri": "https://localhost:8080/"
        },
        "id": "8r_387Zz4fwr",
        "outputId": "d22ed04c-eee1-4493-cd35-caae1165244b"
      },
      "execution_count": 47,
      "outputs": [
        {
          "output_type": "stream",
          "name": "stdout",
          "text": [
            "Epoch 1/10\n",
            "\u001b[1m100/100\u001b[0m \u001b[32m━━━━━━━━━━━━━━━━━━━━\u001b[0m\u001b[37m\u001b[0m \u001b[1m2s\u001b[0m 12ms/step - accuracy: 0.2026 - loss: 510.7284 - val_accuracy: 0.1232 - val_loss: 2.3113\n",
            "Epoch 2/10\n",
            "\u001b[1m100/100\u001b[0m \u001b[32m━━━━━━━━━━━━━━━━━━━━\u001b[0m\u001b[37m\u001b[0m \u001b[1m1s\u001b[0m 10ms/step - accuracy: 0.1299 - loss: 2.2921 - val_accuracy: 0.1470 - val_loss: 2.2500\n",
            "Epoch 3/10\n",
            "\u001b[1m100/100\u001b[0m \u001b[32m━━━━━━━━━━━━━━━━━━━━\u001b[0m\u001b[37m\u001b[0m \u001b[1m1s\u001b[0m 10ms/step - accuracy: 0.1473 - loss: 2.2086 - val_accuracy: 0.1601 - val_loss: 2.2111\n",
            "Epoch 4/10\n",
            "\u001b[1m100/100\u001b[0m \u001b[32m━━━━━━━━━━━━━━━━━━━━\u001b[0m\u001b[37m\u001b[0m \u001b[1m2s\u001b[0m 13ms/step - accuracy: 0.1784 - loss: 2.1295 - val_accuracy: 0.1587 - val_loss: 2.1780\n",
            "Epoch 5/10\n",
            "\u001b[1m100/100\u001b[0m \u001b[32m━━━━━━━━━━━━━━━━━━━━\u001b[0m\u001b[37m\u001b[0m \u001b[1m1s\u001b[0m 13ms/step - accuracy: 0.1846 - loss: 2.1278 - val_accuracy: 0.1513 - val_loss: 2.0860\n",
            "Epoch 6/10\n",
            "\u001b[1m100/100\u001b[0m \u001b[32m━━━━━━━━━━━━━━━━━━━━\u001b[0m\u001b[37m\u001b[0m \u001b[1m2s\u001b[0m 10ms/step - accuracy: 0.1878 - loss: 2.0924 - val_accuracy: 0.1957 - val_loss: 2.1266\n"
          ]
        }
      ]
    },
    {
      "cell_type": "markdown",
      "source": [
        "o checkpoint vai salvar o modelo no ponto de melhor configuração encontrada"
      ],
      "metadata": {
        "id": "vBF4N6HkfKkD"
      }
    },
    {
      "cell_type": "markdown",
      "source": [
        "# Modelo Final"
      ],
      "metadata": {
        "id": "mCQNY3Q3g3Jv"
      }
    },
    {
      "cell_type": "code",
      "source": [
        "# definir o modelo\n",
        "\n",
        "modelo = keras.Sequential([\n",
        "    keras.layers.Input(shape=(28, 28, 1)), # camada de entrada\n",
        "    keras.layers.Flatten(), # camada de redução de dimensionalidade\n",
        "    keras.layers.Dense(256, activation=tensorflow.nn.relu), # camada oculta\n",
        "    keras.layers.Dropout(0.2), # camada de dropout\n",
        "    keras.layers.Dense(10, activation=tensorflow.nn.softmax) # camada de saída\n",
        "])\n"
      ],
      "metadata": {
        "id": "514w3i5vg4-9"
      },
      "execution_count": 48,
      "outputs": []
    },
    {
      "cell_type": "code",
      "source": [
        "# compilar o modelo\n",
        "\n",
        "adam = keras.optimizers.Adam(learning_rate=0.001)\n",
        "\n",
        "modelo.compile(optimizer=adam,\n",
        "               loss='sparse_categorical_crossentropy',\n",
        "               metrics=['accuracy'])"
      ],
      "metadata": {
        "id": "Ojh3kdvGhAqx"
      },
      "execution_count": 49,
      "outputs": []
    },
    {
      "cell_type": "code",
      "source": [
        "# salvar o histórico\n",
        "\n",
        "historico = modelo.fit(imagens_treino, idenficacoes_treino,\n",
        "                       epochs=10, validation_split=0.2)"
      ],
      "metadata": {
        "colab": {
          "base_uri": "https://localhost:8080/"
        },
        "id": "Mt8PjCv9hAoU",
        "outputId": "31888e42-abf4-48a5-8e38-29cb6c388448"
      },
      "execution_count": 50,
      "outputs": [
        {
          "output_type": "stream",
          "name": "stdout",
          "text": [
            "Epoch 1/10\n",
            "\u001b[1m1500/1500\u001b[0m \u001b[32m━━━━━━━━━━━━━━━━━━━━\u001b[0m\u001b[37m\u001b[0m \u001b[1m5s\u001b[0m 3ms/step - accuracy: 0.7674 - loss: 0.6652 - val_accuracy: 0.8512 - val_loss: 0.4130\n",
            "Epoch 2/10\n",
            "\u001b[1m1500/1500\u001b[0m \u001b[32m━━━━━━━━━━━━━━━━━━━━\u001b[0m\u001b[37m\u001b[0m \u001b[1m5s\u001b[0m 3ms/step - accuracy: 0.8502 - loss: 0.4098 - val_accuracy: 0.8657 - val_loss: 0.3730\n",
            "Epoch 3/10\n",
            "\u001b[1m1500/1500\u001b[0m \u001b[32m━━━━━━━━━━━━━━━━━━━━\u001b[0m\u001b[37m\u001b[0m \u001b[1m4s\u001b[0m 3ms/step - accuracy: 0.8617 - loss: 0.3704 - val_accuracy: 0.8717 - val_loss: 0.3508\n",
            "Epoch 4/10\n",
            "\u001b[1m1500/1500\u001b[0m \u001b[32m━━━━━━━━━━━━━━━━━━━━\u001b[0m\u001b[37m\u001b[0m \u001b[1m4s\u001b[0m 3ms/step - accuracy: 0.8728 - loss: 0.3426 - val_accuracy: 0.8760 - val_loss: 0.3466\n",
            "Epoch 5/10\n",
            "\u001b[1m1500/1500\u001b[0m \u001b[32m━━━━━━━━━━━━━━━━━━━━\u001b[0m\u001b[37m\u001b[0m \u001b[1m5s\u001b[0m 3ms/step - accuracy: 0.8789 - loss: 0.3239 - val_accuracy: 0.8758 - val_loss: 0.3441\n",
            "Epoch 6/10\n",
            "\u001b[1m1500/1500\u001b[0m \u001b[32m━━━━━━━━━━━━━━━━━━━━\u001b[0m\u001b[37m\u001b[0m \u001b[1m4s\u001b[0m 3ms/step - accuracy: 0.8865 - loss: 0.3052 - val_accuracy: 0.8820 - val_loss: 0.3269\n",
            "Epoch 7/10\n",
            "\u001b[1m1500/1500\u001b[0m \u001b[32m━━━━━━━━━━━━━━━━━━━━\u001b[0m\u001b[37m\u001b[0m \u001b[1m6s\u001b[0m 3ms/step - accuracy: 0.8908 - loss: 0.2938 - val_accuracy: 0.8848 - val_loss: 0.3324\n",
            "Epoch 8/10\n",
            "\u001b[1m1500/1500\u001b[0m \u001b[32m━━━━━━━━━━━━━━━━━━━━\u001b[0m\u001b[37m\u001b[0m \u001b[1m4s\u001b[0m 3ms/step - accuracy: 0.8941 - loss: 0.2807 - val_accuracy: 0.8839 - val_loss: 0.3213\n",
            "Epoch 9/10\n",
            "\u001b[1m1500/1500\u001b[0m \u001b[32m━━━━━━━━━━━━━━━━━━━━\u001b[0m\u001b[37m\u001b[0m \u001b[1m6s\u001b[0m 3ms/step - accuracy: 0.8970 - loss: 0.2748 - val_accuracy: 0.8845 - val_loss: 0.3224\n",
            "Epoch 10/10\n",
            "\u001b[1m1500/1500\u001b[0m \u001b[32m━━━━━━━━━━━━━━━━━━━━\u001b[0m\u001b[37m\u001b[0m \u001b[1m5s\u001b[0m 3ms/step - accuracy: 0.8978 - loss: 0.2734 - val_accuracy: 0.8841 - val_loss: 0.3217\n"
          ]
        }
      ]
    },
    {
      "cell_type": "markdown",
      "source": [
        "# Avaliação de Treino e Validação"
      ],
      "metadata": {
        "id": "n7LthxAbhtCq"
      }
    },
    {
      "cell_type": "code",
      "source": [
        "# acurácia do modelo\n",
        "\n",
        "plt.plot(historico.history['accuracy']);\n",
        "plt.plot(historico.history['val_accuracy']);\n",
        "plt.title('Acurácia por Épocas')\n",
        "plt.xlabel('Épocas')\n",
        "plt.ylabel('Acurácia')\n",
        "plt.legend(['Treino', 'Validação'])"
      ],
      "metadata": {
        "colab": {
          "base_uri": "https://localhost:8080/",
          "height": 493
        },
        "id": "pYtJpaR-hbJc",
        "outputId": "5c2d65d0-8ce8-4596-ccfe-b4a3987f1c9b"
      },
      "execution_count": 51,
      "outputs": [
        {
          "output_type": "execute_result",
          "data": {
            "text/plain": [
              "<matplotlib.legend.Legend at 0x7c7e3c5ae990>"
            ]
          },
          "metadata": {},
          "execution_count": 51
        },
        {
          "output_type": "display_data",
          "data": {
            "text/plain": [
              "<Figure size 640x480 with 1 Axes>"
            ],
            "image/png": "[encoded data removed]"
          },
          "metadata": {}
        }
      ]
    },
    {
      "cell_type": "code",
      "source": [
        "# perda do modelo\n",
        "\n",
        "plt.plot(historico.history['loss']);\n",
        "plt.plot(historico.history['val_loss']);\n",
        "plt.title('Perda por Épocas')\n",
        "plt.xlabel('Épocas')\n",
        "plt.ylabel('Perda')\n",
        "plt.legend(['Treino', 'Validação'])"
      ],
      "metadata": {
        "colab": {
          "base_uri": "https://localhost:8080/",
          "height": 493
        },
        "id": "-J29DIXFhy63",
        "outputId": "b9a0f78d-cd9d-4cbd-9fc8-ee073167315f"
      },
      "execution_count": 52,
      "outputs": [
        {
          "output_type": "execute_result",
          "data": {
            "text/plain": [
              "<matplotlib.legend.Legend at 0x7c7e1c10fb50>"
            ]
          },
          "metadata": {},
          "execution_count": 52
        },
        {
          "output_type": "display_data",
          "data": {
            "text/plain": [
              "<Figure size 640x480 with 1 Axes>"
            ],
            "image/png": "[encoded data removed]"
          },
          "metadata": {}
        }
      ]
    },
    {
      "cell_type": "markdown",
      "source": [
        "# Testar o Modelo"
      ],
      "metadata": {
        "id": "trPZ3Ukdh4pT"
      }
    },
    {
      "cell_type": "code",
      "source": [
        "# predição\n",
        "\n",
        "teste = modelo.predict(imagens_teste)"
      ],
      "metadata": {
        "colab": {
          "base_uri": "https://localhost:8080/"
        },
        "id": "bIPvjak2h12C",
        "outputId": "cf7d3b52-1657-4c40-e8d0-d6cb8b154032"
      },
      "execution_count": 53,
      "outputs": [
        {
          "output_type": "stream",
          "name": "stdout",
          "text": [
            "\u001b[1m313/313\u001b[0m \u001b[32m━━━━━━━━━━━━━━━━━━━━\u001b[0m\u001b[37m\u001b[0m \u001b[1m0s\u001b[0m 1ms/step\n"
          ]
        }
      ]
    },
    {
      "cell_type": "code",
      "source": [
        "# resultado\n",
        "\n",
        "teste[0]"
      ],
      "metadata": {
        "colab": {
          "base_uri": "https://localhost:8080/"
        },
        "id": "5TmnTkcGiEZj",
        "outputId": "d7299717-d995-416f-a54f-92464520c677"
      },
      "execution_count": 54,
      "outputs": [
        {
          "output_type": "execute_result",
          "data": {
            "text/plain": [
              "array([0.        , 0.        , 0.        , 0.        , 0.        ,\n",
              "       0.        , 0.        , 0.        , 0.        , 0.99999994],\n",
              "      dtype=float32)"
            ]
          },
          "metadata": {},
          "execution_count": 54
        }
      ]
    },
    {
      "cell_type": "code",
      "source": [
        "# comparar respostas\n",
        "\n",
        "argmax = np.argmax(teste[0])\n",
        "print(f'Resultado do Teste: {argmax}')\n",
        "print(f'Numero da Identificação Correta: {idenficacoes_teste[0]}')"
      ],
      "metadata": {
        "colab": {
          "base_uri": "https://localhost:8080/"
        },
        "id": "fkkFWvgViHa4",
        "outputId": "3997dadd-0601-4c74-d81d-065ebc0f510d"
      },
      "execution_count": 55,
      "outputs": [
        {
          "output_type": "stream",
          "name": "stdout",
          "text": [
            "Resultado do Teste: 9\n",
            "Numero da Identificação Correta: 9\n"
          ]
        }
      ]
    },
    {
      "cell_type": "code",
      "source": [
        "print(f'Resultado do Teste: {np.argmax(teste[4])}')\n",
        "print(f'Numero da Identificação Correta: {idenficacoes_teste[4]}')"
      ],
      "metadata": {
        "colab": {
          "base_uri": "https://localhost:8080/"
        },
        "id": "J2Iw3Sx7iMtA",
        "outputId": "b007cee1-2bf8-4810-b6ec-9ab5f6b4db12"
      },
      "execution_count": 56,
      "outputs": [
        {
          "output_type": "stream",
          "name": "stdout",
          "text": [
            "Resultado do Teste: 6\n",
            "Numero da Identificação Correta: 6\n"
          ]
        }
      ]
    },
    {
      "cell_type": "code",
      "source": [
        "# evaluate\n",
        "\n",
        "modelo.evaluate(imagens_teste, idenficacoes_teste)"
      ],
      "metadata": {
        "colab": {
          "base_uri": "https://localhost:8080/"
        },
        "id": "mQjIQMqgiQF9",
        "outputId": "0886c0de-5627-41a7-f191-2bda568d17da"
      },
      "execution_count": 57,
      "outputs": [
        {
          "output_type": "stream",
          "name": "stdout",
          "text": [
            "\u001b[1m313/313\u001b[0m \u001b[32m━━━━━━━━━━━━━━━━━━━━\u001b[0m\u001b[37m\u001b[0m \u001b[1m1s\u001b[0m 1ms/step - accuracy: 0.8581 - loss: 59.2544\n"
          ]
        },
        {
          "output_type": "execute_result",
          "data": {
            "text/plain": [
              "[63.17478561401367, 0.8560000061988831]"
            ]
          },
          "metadata": {},
          "execution_count": 57
        }
      ]
    },
    {
      "cell_type": "code",
      "source": [
        "perda_teste, acuracia_teste = modelo.evaluate(imagens_teste, idenficacoes_teste)\n",
        "print(f'Perda do Teste: {perda_teste}')\n",
        "print(f'Acurácia do Teste: {acuracia_teste}')"
      ],
      "metadata": {
        "colab": {
          "base_uri": "https://localhost:8080/"
        },
        "id": "xZgKcUjWiZHL",
        "outputId": "2f218e3f-d9da-45e2-c324-c9bee0fbe3d6"
      },
      "execution_count": 58,
      "outputs": [
        {
          "output_type": "stream",
          "name": "stdout",
          "text": [
            "\u001b[1m313/313\u001b[0m \u001b[32m━━━━━━━━━━━━━━━━━━━━\u001b[0m\u001b[37m\u001b[0m \u001b[1m0s\u001b[0m 1ms/step - accuracy: 0.8581 - loss: 59.2544\n",
            "Perda do Teste: 63.17478561401367\n",
            "Acurácia do Teste: 0.8560000061988831\n"
          ]
        }
      ]
    }
  ]
}